{
  "cells": [
    {
      "cell_type": "code",
      "source": [
        "#eh necessario executar esta celula para que as outras celulas possam ser executadas\n",
        "# função que checa se um numero eh primo ou nao\n",
        "def is_prime(n):\n",
        "      #caso o numero seja negativo, 0 ou 1 ele nao eh primo\n",
        "      if (n <= 1) : \n",
        "          return 'not a prime number'\n",
        "      #caso o numero tenha passado pelo ultimo teste, mas seja menor que 3, ele eh o numero 2 que eh primo\n",
        "      if (n <= 3) : \n",
        "          return 'prime number'\n",
        "      #se o numero for divisivel por 2 ou 3 ele nao eh primo\n",
        "      if (n % 2 == 0 or n % 3 == 0) : \n",
        "          return 'not a prime number'\n",
        "\n",
        "      i = 5\n",
        "      while(i * i <= n) : \n",
        "          if (n % i == 0 or n % (i + 2) == 0) : \n",
        "              return 'not a prime number'\n",
        "          i = i + 6\n",
        "\n",
        "      return 'prime number'"
      ],
      "metadata": {
        "id": "Z5YZvpSYl_Y6"
      },
      "execution_count": 2,
      "outputs": []
    },
    {
      "cell_type": "code",
      "execution_count": 1,
      "metadata": {
        "colab": {
          "base_uri": "https://localhost:8080/"
        },
        "id": "6w7WNY4g7Knt",
        "outputId": "5796b355-f914-4780-b8d6-474a8b6f3a50"
      },
      "outputs": [
        {
          "output_type": "stream",
          "name": "stdout",
          "text": [
            "1 is not a prime number number\n",
            "2 is prime number number\n",
            "3 is prime number number\n",
            "4 is not a prime number number\n",
            "5 is prime number number\n",
            "6 is not a prime number number\n",
            "7 is prime number number\n",
            "8 is not a prime number number\n",
            "9 is not a prime number number\n",
            "\n",
            "Time taken = 18.016818523406982 seconds\n"
          ]
        }
      ],
      "source": [
        "#biblioteca do python para contagem do tempo de execucao do processo\n",
        "import time\n",
        "\n",
        "#começa a contagem de tempo    \n",
        "starttime = time.time()\n",
        "#testamos neste loop se os numeros de 1 a 9 sao primos ou nao \n",
        "for i in range(1, 10):\n",
        "    #a cada passada do loop o processo dorme por 2 segundos, ou seja, como estamos executando em paralelo esperamos que \n",
        "    #o processo demore 18(2 segundos * 9 numeros) segundos para executar\n",
        "    time.sleep(2)\n",
        "    #a cada execucao printamos o numero e o resultado se ele eh primo ou nao\n",
        "    print('{} is {} number'.format(i, is_prime(i)))\n",
        "#print meramente para pular uma linha\n",
        "print()\n",
        "#Ao final printamos a quantidade de tempo decorrida do inicio do processo ate o final. \n",
        "#Esperamos algo em torno de 18 segundos como tempo de execucao    \n",
        "print('Time taken = {} seconds'.format(time.time() - starttime))"
      ]
    },
    {
      "cell_type": "code",
      "execution_count": 2,
      "metadata": {
        "colab": {
          "base_uri": "https://localhost:8080/"
        },
        "id": "xr2nqd757Knx",
        "outputId": "10c3abba-7b08-4f8e-c8cf-1d91a0f3e897"
      },
      "outputs": [
        {
          "output_type": "stream",
          "name": "stdout",
          "text": [
            "1 is not a prime number number\n",
            "2 is prime number number\n",
            "3 is prime number number\n",
            "5 is prime number number4 is not a prime number number6 is not a prime number number\n",
            "7 is prime number number\n",
            "9 is not a prime number number\n",
            "\n",
            "\n",
            "8 is not a prime number number\n",
            "\n",
            "Time taken = 2.108078956604004 seconds\n"
          ]
        }
      ],
      "source": [
        "import time\n",
        "#biblioteca do python para o uso de multiprocessamento a partir de processos\n",
        "import multiprocessing\n",
        "#definicao da funcao alvo que sera chamada pelos processos durante sua execucao\n",
        "def multiprocessing_func(x):\n",
        "    #fazemos com que o processo que execute esta funcao durma por 2 segundos,\n",
        "    time.sleep(2)\n",
        "    #printamos o numero x, passado como argumento da funcao, e se ele eh primo ou nao.\n",
        "    #Observe que a ordem dos numeros nao eh mantida nos prints.\n",
        "    #isso acontece pois a ordem de execucao dos processos depende de qual processo eh escolhido pelo scheduler de processos\n",
        "    # e nao da ordem dos numeros.\n",
        "    print('{} is {} number'.format(x, is_prime(x)))\n",
        "    \n",
        "if __name__ == '__main__':\n",
        "    #comecamos a contagem do tempo de execucao da celula \n",
        "    starttime = time.time()\n",
        "    #criamos uma lista para abrigar os processos criados\n",
        "    processes = []\n",
        "    #criamos 10 processos neste loop\n",
        "    for i in range(1, 10):\n",
        "        #usamos a funcao Process da biblioteca multiprocessing, \n",
        "        #passando para ela o nome da funcao alvo que o processo criado deve executar(target=multiprocessing_func).\n",
        "        #Como a funcao alvo recebe argumentos de entrada temos que passar para este metodo os argumentos que seram usados\n",
        "        # como argumentos de entrada para a funcao alvo, o numero i do loop. Para isso que serve o argumento args=(i,),\n",
        "        # que diz qual sera o argumento passado para a funcao alvo na execucao do processo.\n",
        "        #o processo criado é armazenado na variavel p\n",
        "        p = multiprocessing.Process(target=multiprocessing_func, args=(i,))\n",
        "        #o processo eh inserido no final da lista de processos\n",
        "        processes.append(p)\n",
        "        #começamos a execucao do processo p por meio do metodo start(), \n",
        "        #a partir deste momento o processo p executa a funcao que passamos como target usando os argumentos passados em args=(i,)\n",
        "        p.start()\n",
        "    #Neste loop garantimos que todos os processos terminaram, por meio do metodo join(), antes de continuarmos a execucao da celula.    \n",
        "    for process in processes:\n",
        "        process.join()\n",
        "    #print meramente para pular uma linha    \n",
        "    print()\n",
        "    #Ao final printamos a quantidade de tempo decorrida do inicio do processo ate o final.\n",
        "    #Como cada processo executa em paralelo, as esperas de 2 segundos da funcao sao executadas em paralelo.\n",
        "    #Por isso o tempo de execucao desta celula deve ser algo em torno de 2 segundos.    \n",
        "    print('Time taken = {} seconds'.format(time.time() - starttime))"
      ]
    },
    {
      "cell_type": "code",
      "execution_count": 3,
      "metadata": {
        "colab": {
          "base_uri": "https://localhost:8080/"
        },
        "id": "ZDi08rU67Knx",
        "outputId": "4ca56d8a-7117-4862-a1b4-ccb8b15fbedb"
      },
      "outputs": [
        {
          "output_type": "stream",
          "name": "stdout",
          "text": [
            "0 is not a prime number number\n",
            "\n",
            "1 is not a prime number number\n",
            "2 is prime number number\n",
            "4 is not a prime number number\n",
            "\n",
            "7 is prime number number\n",
            "\n",
            "5 is prime number number\n",
            "\n",
            "3 is prime number number\n",
            "\n",
            "\n",
            "\n",
            "8 is not a prime number number\n",
            "\n",
            "6 is not a prime number number\n",
            "\n",
            "9 is not a prime number number\n",
            "\n",
            "Time taken = 2.011436700820923 seconds\n"
          ]
        }
      ],
      "source": [
        "import time\n",
        "#biblioteca do python para o uso de multiprocessamento a partir de threads\n",
        "import threading\n",
        "#definicao da funcao alvo que sera chamada pelas threads durante sua execucao\n",
        "def threading_func(x):\n",
        "    #Fazemos as threads dormirem por 2 segundos.\n",
        "    #Como cada thread executa em paralelo essas esperas sao executadas em paralelo.\n",
        "    #Por isso o tempo de execucao desta celula deve ser algo em torno de 2 segundos. \n",
        "    time.sleep(2)\n",
        "    #printamos o numero x, passado como argumento da funcao, e se ele eh primo ou nao.\n",
        "    #Observe que a ordem dos numeros nao eh mantida nos prints.\n",
        "    #isso acontece pois a ordem de execucao das threads nao eh deterministica.\n",
        "    print('{} is {} number\\n'.format(x, is_prime(x)))\n",
        "\n",
        "if __name__ == \"__main__\":\n",
        "    #começa a contagem de tempo da celula\n",
        "    start = time.time()\n",
        "    #lista que abriga as threads criadas\n",
        "    threads = []\n",
        "    #loop que inicializa as threads, uma para cada numero entre 0 e 9\n",
        "    for i in range(0, 10):\n",
        "        #usamos a funcao Thread da biblioteca threading, \n",
        "        #passando para ela o nome da funcao alvo que a thread criada deve executar(target=threading_func).\n",
        "        #Como a funcao alvo recebe argumentos de entrada temos que passar para este metodo os argumentos que seram usados\n",
        "        # como argumentos de entrada para a funcao alvo, o numero i do loop. Para isso que serve o argumento args=(i,),\n",
        "        # que diz qual sera o argumento passado para a funcao alvo na execucao da thread.\n",
        "        #a thread criada é armazenado na lista de threads\n",
        "        thread = threading.Thread(target=threading_func, args=(i,))\n",
        "        threads.append(thread)\n",
        "\n",
        "    # Começa as threads usando o metodo start\n",
        "    for j in threads:\n",
        "        j.start()\n",
        "\n",
        "    # Garantimos que todas as threads terminaram, por meio do metodo join(), antes de continuarmos a execucao da celula. \n",
        "    for j in threads:\n",
        "        j.join()\n",
        "    #Ao final printamos a quantidade de tempo decorrida do inicio da execucao da celula ate o final.\n",
        "    #Como cada thread executa em paralelo, as esperas de 2 segundos da funcao sao executadas em paralelo.\n",
        "    #Por isso o tempo de execucao desta celula deve ser algo em torno de 2 segundos.    \n",
        "    print('Time taken = {} seconds'.format(time.time() - start))\n"
      ]
    }
  ],
  "metadata": {
    "interpreter": {
      "hash": "31f2aee4e71d21fbe5cf8b01ff0e069b9275f58929596ceb00d14d90e3e16cd6"
    },
    "kernelspec": {
      "display_name": "Python 3.6.9 64-bit",
      "name": "python3"
    },
    "language_info": {
      "codemirror_mode": {
        "name": "ipython",
        "version": 3
      },
      "file_extension": ".py",
      "mimetype": "text/x-python",
      "name": "python",
      "nbconvert_exporter": "python",
      "pygments_lexer": "ipython3",
      "version": "3.7.5"
    },
    "orig_nbformat": 2,
    "colab": {
      "provenance": []
    }
  },
  "nbformat": 4,
  "nbformat_minor": 0
}